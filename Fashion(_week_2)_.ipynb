{
  "nbformat": 4,
  "nbformat_minor": 0,
  "metadata": {
    "colab": {
      "name": "Fashion( week 2) .ipynb",
      "version": "0.3.2",
      "provenance": [],
      "include_colab_link": true
    },
    "kernelspec": {
      "name": "python3",
      "display_name": "Python 3"
    },
    "accelerator": "TPU"
  },
  "cells": [
    {
      "cell_type": "markdown",
      "metadata": {
        "id": "view-in-github",
        "colab_type": "text"
      },
      "source": [
        "<a href=\"https://colab.research.google.com/github/swarnendu111/Basic-ML-and-DA-in-python-R/blob/master/Fashion(_week_2)_.ipynb\" target=\"_parent\"><img src=\"https://colab.research.google.com/assets/colab-badge.svg\" alt=\"Open In Colab\"/></a>"
      ]
    },
    {
      "metadata": {
        "id": "qnyTxjK_GbOD",
        "colab_type": "text"
      },
      "cell_type": "markdown",
      "source": [
        "#  A Computer Vision Example\n",
        "\n",
        "But what about a scenario where writing rules  is much more difficult -- for example a computer vision problem? Let's take a look at a scenario where we can recognize different items of clothing, trained from a dataset containing 10 different types."
      ]
    },
    {
      "metadata": {
        "id": "YAxht804nSqt",
        "colab_type": "code",
        "outputId": "460ef5d7-ed92-4a20-8fc6-97c0a8326a35",
        "colab": {
          "base_uri": "https://localhost:8080/",
          "height": 33
        }
      },
      "cell_type": "code",
      "source": [
        "import tensorflow as tf\n",
        "print(tf.__version__)"
      ],
      "execution_count": 0,
      "outputs": [
        {
          "output_type": "stream",
          "text": [
            "1.13.1\n"
          ],
          "name": "stdout"
        }
      ]
    },
    {
      "metadata": {
        "id": "n_n1U5do3u_F",
        "colab_type": "text"
      },
      "cell_type": "markdown",
      "source": [
        "The Fashion MNIST data is available directly in the tf.keras datasets API. load it like this:"
      ]
    },
    {
      "metadata": {
        "id": "Mqd4e0uYh_30",
        "colab_type": "code",
        "colab": {}
      },
      "cell_type": "code",
      "source": [
        "fashion_mnist = tf.keras.datasets.fashion_mnist\n",
        "(training_images , training_labels) , (test_images , test_labels) =fashion_mnist.load_data()\n"
      ],
      "execution_count": 0,
      "outputs": []
    },
    {
      "metadata": {
        "id": "qJ9Rh27k0a_B",
        "colab_type": "text"
      },
      "cell_type": "markdown",
      "source": [
        "print a training image, and a training label to see...Experiment with different indices in the array"
      ]
    },
    {
      "metadata": {
        "id": "vWPTAXa-oGwU",
        "colab_type": "code",
        "outputId": "f632e413-feea-4ad6-c30b-682b0911590a",
        "colab": {
          "base_uri": "https://localhost:8080/",
          "height": 1300
        }
      },
      "cell_type": "code",
      "source": [
        "import matplotlib.pyplot as plt\n",
        "plt.imshow(training_images[5500])\n",
        "print(training_labels[5500])\n",
        "print(training_images[5500])"
      ],
      "execution_count": 0,
      "outputs": [
        {
          "output_type": "stream",
          "text": [
            "7\n",
            "[[  0   0   0   0   0   0   0   0   0   0   0   0   0   0   0   0   0   0\n",
            "    0   0   0   0   0   0   0   0   0   0]\n",
            " [  0   0   0   0   0   0   0   0   0   0   0   0   0   0   0   0   0   0\n",
            "    0   0   0   0   0   0   0   0   0   0]\n",
            " [  0   0   0   0   0   0   0   0   0   0   0   0   0   0   0   0   0   0\n",
            "    0   0   0   0   0   0   0   0   0   0]\n",
            " [  0   0   0   0   0   0   0   0   0   0   0   0   0   0   0   0   0   0\n",
            "    0   0   0   0   0   0   0   0   0   0]\n",
            " [  0   0   0   0   0   0   0   0   0   0   0   0   0   0   0   0   0   0\n",
            "    0   0   0   0   0   0   0   0   0   0]\n",
            " [  0   0   0   0   0   0   0   0   0   0   0   0   0   0   0   0   0   0\n",
            "    0   0   0   0   0   0   0   0   0   0]\n",
            " [  0   0   0   0   0   0   0   0   0   0   0   0   0   0   0   0   0   0\n",
            "    0   0   0   0   0   0   0   0   0   0]\n",
            " [  0   0   0   0   0   0   0   0   0   0   0   0   0   0   0   0   0   0\n",
            "    0   0   0   0   0   0   0   0   0   0]\n",
            " [  0   0   0   0   0   0   0   0   0   0   0   0   0   0   0   0   0   0\n",
            "    0   0   0   0   0   0   0   0   0   0]\n",
            " [  0   0   0   0   0   0   0   0   0   4   3   0   0   0   0  35 140 168\n",
            "  129  70   0   0   0   0   0   0  18   0]\n",
            " [  0   0   0   0   0   0   1   3   1   0   0   0  69 120 212 225 170 182\n",
            "  174 178 163   0   0   0   0 111  58   7]\n",
            " [  0   0   0   0   0   0   0   0   0  35 122 164 187 197  88  29 207 110\n",
            "  188 211 185 168  69   0 123 171   0   0]\n",
            " [  0   3   3   3   3   0   0   0 115 185 173 127 177  79   0 236 157   0\n",
            "    0 214 218 196 196 217 212 214 166   1]\n",
            " [  0   0   0   0   0   0  94 237 197 174  29 156 213   0 120 255  72   0\n",
            "    0   0 172 213 200 223  12 159 221 103]\n",
            " [  0  33  70  13   9   0   0  13 154 176 172  70 223 171   0  90 255 106\n",
            "    2   7   0 178 202 225  96 147 214  79]\n",
            " [  0 163 218 182 166 165 121   0 132 181 180 169 171 202 182 173 194 208\n",
            "  196 200 209 189 180 181 194 193 207  91]\n",
            " [  4  54 109 164 187 196 205 255 210 209 214 219 219 215 223 223 219 217\n",
            "  217 220 223 227 216 218 214 207 255  88]\n",
            " [ 16  67  15   0   0   0   9  26  52  69  96 109 107 100  88  73  62  53\n",
            "   56  46  39  53  51  33  21   2   0   0]\n",
            " [  0   9  49  74  62  87  93  50  28  16   0   0   0   0   0   0   0   0\n",
            "    0   8  45  46  35  38  49  67  81  45]\n",
            " [  1   0   0   0   8  66  97 101 123 136 103  61  61  62  63  57  55  52\n",
            "   61  76 105 114 107 106 105  92  80  23]\n",
            " [  0   0   0   0   0   0   0   0   0   0   0   0   0   0   0   0   0   0\n",
            "    0   0   0   0   0   0   0   0   0   0]\n",
            " [  0   0   0   0   0   0   0   0   0   0   0   0   0   0   0   0   0   0\n",
            "    0   0   0   0   0   0   0   0   0   0]\n",
            " [  0   0   0   0   0   0   0   0   0   0   0   0   0   0   0   0   0   0\n",
            "    0   0   0   0   0   0   0   0   0   0]\n",
            " [  0   0   0   0   0   0   0   0   0   0   0   0   0   0   0   0   0   0\n",
            "    0   0   0   0   0   0   0   0   0   0]\n",
            " [  0   0   0   0   0   0   0   0   0   0   0   0   0   0   0   0   0   0\n",
            "    0   0   0   0   0   0   0   0   0   0]\n",
            " [  0   0   0   0   0   0   0   0   0   0   0   0   0   0   0   0   0   0\n",
            "    0   0   0   0   0   0   0   0   0   0]\n",
            " [  0   0   0   0   0   0   0   0   0   0   0   0   0   0   0   0   0   0\n",
            "    0   0   0   0   0   0   0   0   0   0]\n",
            " [  0   0   0   0   0   0   0   0   0   0   0   0   0   0   0   0   0   0\n",
            "    0   0   0   0   0   0   0   0   0   0]]\n"
          ],
          "name": "stdout"
        },
        {
          "output_type": "display_data",
          "data": {
            "image/png": "[encoded data removed]",
            "text/plain": [
              "<Figure size 576x396 with 1 Axes>"
            ]
          },
          "metadata": {
            "tags": []
          }
        }
      ]
    },
    {
      "metadata": {
        "id": "sDX01tuN0drl",
        "colab_type": "text"
      },
      "cell_type": "markdown",
      "source": [
        "all of the values in the number are between 0 and 255. If we are training a neural network, for various reasons it's easier if we treat all values as between 0 and 1, a process called 'normalizing'...and fortunately in Python it's easy to normalize a list like this without looping. You do it like this:"
      ]
    },
    {
      "metadata": {
        "id": "ErV8QGeeoH4l",
        "colab_type": "code",
        "colab": {}
      },
      "cell_type": "code",
      "source": [
        "training_images  = training_images / 255.0\n",
        "test_images = test_images / 255.0"
      ],
      "execution_count": 0,
      "outputs": []
    },
    {
      "metadata": {
        "id": "m_DSIkeF0lqM",
        "colab_type": "text"
      },
      "cell_type": "markdown",
      "source": [
        "Sequential: That defines a SEQUENCE of layers in the neural network\n",
        "\n",
        "Flatten: Remember earlier where our images were a square, when you printed them out? Flatten just takes that square and turns it into a 1 dimensional set.\n",
        "\n",
        "Dense: Adds a layer of neurons\n",
        "\n",
        "Each layer of neurons need an activation function to tell them what to do. There's lots of options, but just use these for now.\n",
        "\n",
        "Relu effectively means \"If X>0 return X, else return 0\" -- so what it does it it only passes values 0 or greater to the next layer in the network.\n",
        "\n",
        "Softmax takes a set of values, and effectively picks the biggest one, so, for example, if the output of the last layer looks like [0.1, 0.1, 0.05, 0.1, 9.5, 0.1, 0.05, 0.05, 0.05], it saves you from fishing through it looking for the biggest value, and turns it into [0,0,0,0,1,0,0,0,0] -- The goal is to save a lot of coding!"
      ]
    },
    {
      "metadata": {
        "id": "q45bi5WuSwaZ",
        "colab_type": "code",
        "colab": {}
      },
      "cell_type": "code",
      "source": [
        "import time\n",
        "start = time. time()"
      ],
      "execution_count": 0,
      "outputs": []
    },
    {
      "metadata": {
        "id": "WtWxK16hQxLN",
        "colab_type": "text"
      },
      "cell_type": "markdown",
      "source": [
        "##Exercise 3: \n",
        "\n",
        "What would happen if you remove the Flatten() layer. Why do you think that's the case? \n",
        "\n",
        "You get an error about the shape of the data. It may seem vague right now, but it reinforces the rule of thumb that the first layer in your network should be the same shape as your data. Right now our data is 28x28 images, and 28 layers of 28 neurons would be infeasible, so it makes more sense to 'flatten' that 28,28 into a 784x1. Instead of wriitng all the code to handle that ourselves, we add the Flatten() layer at the begining, and when the arrays are loaded into the model later, they'll automatically be flattened for us."
      ]
    },
    {
      "metadata": {
        "id": "roHEgnVBk3hu",
        "colab_type": "code",
        "colab": {}
      },
      "cell_type": "code",
      "source": [
        "model = tf.keras.models.Sequential([tf.keras.layers.Flatten(),\n",
        "                      tf.keras.layers.Dense(128, activation=tf.nn.relu),\n",
        "                      tf.keras.layers.Dense(10,activation=tf.nn.softmax)])"
      ],
      "execution_count": 0,
      "outputs": []
    },
    {
      "metadata": {
        "id": "-IKAAFUn0xec",
        "colab_type": "text"
      },
      "cell_type": "markdown",
      "source": [
        "Compiling model with an optimizer and loss function. "
      ]
    },
    {
      "metadata": {
        "id": "v9LFQGGGoMGd",
        "colab_type": "code",
        "colab": {}
      },
      "cell_type": "code",
      "source": [
        "model.compile(optimizer = tf.train.AdamOptimizer(),\n",
        "              loss = 'sparse_categorical_crossentropy',\n",
        "              metrics=['accuracy'])\n",
        "\n"
      ],
      "execution_count": 0,
      "outputs": []
    },
    {
      "metadata": {
        "id": "tRlRa5nm1Szb",
        "colab_type": "text"
      },
      "cell_type": "markdown",
      "source": [
        "Using callback function to stop the epoch when acc reaches 0.97"
      ]
    },
    {
      "metadata": {
        "id": "bJqjv9kmynhq",
        "colab_type": "code",
        "colab": {}
      },
      "cell_type": "code",
      "source": [
        "class myCallback(tf.keras.callbacks.Callback):\n",
        "  def on_epoch_end(self, epoch, logs={}):\n",
        "    if(logs.get('acc')> 0.97):\n",
        "      print(\"\\nReached 97% accuracy so cancelling training!\")\n",
        "      self.model.stop_training = True\n"
      ],
      "execution_count": 0,
      "outputs": []
    },
    {
      "metadata": {
        "id": "U0IC5MWZyzos",
        "colab_type": "code",
        "colab": {}
      },
      "cell_type": "code",
      "source": [
        "callbacks = myCallback()"
      ],
      "execution_count": 0,
      "outputs": []
    },
    {
      "metadata": {
        "id": "PTm_BnbX1QEr",
        "colab_type": "text"
      },
      "cell_type": "markdown",
      "source": [
        "''model.fit '' asking it to fit your training data to your training labels -- i.e. have it figure out the relationship between the training data and its actual labels, so in future if you have data that looks like the training data, then it can make a prediction for what that data would look like."
      ]
    },
    {
      "metadata": {
        "id": "JX5CTtSBoeI7",
        "colab_type": "code",
        "outputId": "3bce9b5b-4064-4fe0-e291-742e91f75d8c",
        "colab": {
          "base_uri": "https://localhost:8080/",
          "height": 368
        }
      },
      "cell_type": "code",
      "source": [
        "model.fit(training_images, training_labels, epochs=10 ,)# callbacks=[callbacks])"
      ],
      "execution_count": 0,
      "outputs": [
        {
          "output_type": "stream",
          "text": [
            "Epoch 1/10\n",
            "60000/60000 [==============================] - 8s 126us/sample - loss: 0.4971 - acc: 0.8250\n",
            "Epoch 2/10\n",
            "60000/60000 [==============================] - 7s 121us/sample - loss: 0.3764 - acc: 0.8643\n",
            "Epoch 3/10\n",
            "60000/60000 [==============================] - 7s 121us/sample - loss: 0.3366 - acc: 0.8780\n",
            "Epoch 4/10\n",
            "60000/60000 [==============================] - 7s 122us/sample - loss: 0.3137 - acc: 0.8842\n",
            "Epoch 5/10\n",
            "60000/60000 [==============================] - 7s 116us/sample - loss: 0.2957 - acc: 0.8921\n",
            "Epoch 6/10\n",
            "60000/60000 [==============================] - 7s 112us/sample - loss: 0.2821 - acc: 0.8956\n",
            "Epoch 7/10\n",
            "60000/60000 [==============================] - 7s 122us/sample - loss: 0.2670 - acc: 0.9005\n",
            "Epoch 8/10\n",
            "60000/60000 [==============================] - 7s 112us/sample - loss: 0.2577 - acc: 0.9054\n",
            "Epoch 9/10\n",
            "60000/60000 [==============================] - 7s 110us/sample - loss: 0.2488 - acc: 0.9070\n",
            "Epoch 10/10\n",
            "60000/60000 [==============================] - 7s 115us/sample - loss: 0.2376 - acc: 0.9107\n"
          ],
          "name": "stdout"
        },
        {
          "output_type": "execute_result",
          "data": {
            "text/plain": [
              "<tensorflow.python.keras.callbacks.History at 0x7f841109e4e0>"
            ]
          },
          "metadata": {
            "tags": []
          },
          "execution_count": 24
        }
      ]
    },
    {
      "metadata": {
        "id": "55b-XW2gS0t4",
        "colab_type": "code",
        "outputId": "e89049ff-1f05-4242-c235-50149d578be2",
        "colab": {
          "base_uri": "https://localhost:8080/",
          "height": 33
        }
      },
      "cell_type": "code",
      "source": [
        "end = time. time()\n",
        "print(end - start)\n"
      ],
      "execution_count": 0,
      "outputs": [
        {
          "output_type": "stream",
          "text": [
            "79.01879715919495\n"
          ],
          "name": "stdout"
        }
      ]
    },
    {
      "metadata": {
        "id": "82lOplRlojM_",
        "colab_type": "code",
        "outputId": "77681d6f-b080-44b3-b5cc-17b8a8568cf1",
        "colab": {
          "base_uri": "https://localhost:8080/",
          "height": 50
        }
      },
      "cell_type": "code",
      "source": [
        "model.evaluate(test_images, test_labels)"
      ],
      "execution_count": 0,
      "outputs": [
        {
          "output_type": "stream",
          "text": [
            "10000/10000 [==============================] - 1s 61us/sample - loss: 0.3381 - acc: 0.8816\n"
          ],
          "name": "stdout"
        },
        {
          "output_type": "execute_result",
          "data": {
            "text/plain": [
              "[0.33810758605003355, 0.8816]"
            ]
          },
          "metadata": {
            "tags": []
          },
          "execution_count": 12
        }
      ]
    },
    {
      "metadata": {
        "id": "6TTvs3u3xIy0",
        "colab_type": "code",
        "outputId": "4cce98fa-7541-43a8-e6bd-e054fde0108c",
        "colab": {
          "base_uri": "https://localhost:8080/",
          "height": 84
        }
      },
      "cell_type": "code",
      "source": [
        "classifications = model.predict(test_images)\n",
        "\n",
        "print(classifications[2])\n",
        "print(test_labels[2])"
      ],
      "execution_count": 0,
      "outputs": [
        {
          "output_type": "stream",
          "text": [
            "[1.35784759e-07 9.99999881e-01 2.37683189e-11 4.37287456e-10\n",
            " 8.88522422e-10 9.93181232e-13 7.14728786e-13 6.35227933e-27\n",
            " 1.54605224e-12 1.01429365e-19]\n",
            "1\n"
          ],
          "name": "stdout"
        }
      ]
    },
    {
      "metadata": {
        "id": "aab0SD3Ib7Wg",
        "colab_type": "text"
      },
      "cell_type": "markdown",
      "source": [
        "CREATING A NN WITH HIDDEN LAYER OF 1024  MAKES THE CALCULATION SOPHISTICATED SO IT TAKES MORE TIME BUT GIVES MUCH MORE ACCURACY"
      ]
    },
    {
      "metadata": {
        "id": "_M72G4f6SaSj",
        "colab_type": "code",
        "outputId": "1c36b4bb-7992-459f-91a8-33cc26d5c82b",
        "colab": {
          "base_uri": "https://localhost:8080/",
          "height": 368
        }
      },
      "cell_type": "code",
      "source": [
        "import time\n",
        "start = time. time()\n",
        "\n",
        "model = tf.keras.models.Sequential([tf.keras.layers.Flatten(),\n",
        "                                    tf.keras.layers.Dense(1024, activation=tf.nn.relu),\n",
        "                                    tf.keras.layers.Dense(10, activation=tf.nn.softmax)])\n",
        "\n",
        "model.compile(optimizer = tf.train.AdamOptimizer(),\n",
        "              loss = 'sparse_categorical_crossentropy',\n",
        "              metrics=['accuracy'])\n",
        "model.fit(training_images, training_labels, epochs=10 )\n",
        "\n"
      ],
      "execution_count": 0,
      "outputs": [
        {
          "output_type": "stream",
          "text": [
            "Epoch 1/10\n",
            "60000/60000 [==============================] - 20s 331us/sample - loss: 0.4723 - acc: 0.8291\n",
            "Epoch 2/10\n",
            "60000/60000 [==============================] - 20s 327us/sample - loss: 0.3561 - acc: 0.8713\n",
            "Epoch 3/10\n",
            "60000/60000 [==============================] - 20s 336us/sample - loss: 0.3206 - acc: 0.8812\n",
            "Epoch 4/10\n",
            "60000/60000 [==============================] - 20s 325us/sample - loss: 0.2960 - acc: 0.8897\n",
            "Epoch 5/10\n",
            "60000/60000 [==============================] - 21s 343us/sample - loss: 0.2768 - acc: 0.8967\n",
            "Epoch 6/10\n",
            "60000/60000 [==============================] - 19s 322us/sample - loss: 0.2635 - acc: 0.9019\n",
            "Epoch 7/10\n",
            "60000/60000 [==============================] - 19s 324us/sample - loss: 0.2502 - acc: 0.9069\n",
            "Epoch 8/10\n",
            "60000/60000 [==============================] - 20s 339us/sample - loss: 0.2370 - acc: 0.9111\n",
            "Epoch 9/10\n",
            "60000/60000 [==============================] - 19s 313us/sample - loss: 0.2283 - acc: 0.9140\n",
            "Epoch 10/10\n",
            "60000/60000 [==============================] - 20s 329us/sample - loss: 0.2190 - acc: 0.9171\n"
          ],
          "name": "stdout"
        },
        {
          "output_type": "execute_result",
          "data": {
            "text/plain": [
              "<tensorflow.python.keras.callbacks.History at 0x7f841041e4e0>"
            ]
          },
          "metadata": {
            "tags": []
          },
          "execution_count": 34
        }
      ]
    },
    {
      "metadata": {
        "id": "zt-tfbBUY4YR",
        "colab_type": "code",
        "outputId": "41e32fe9-3721-4692-b1d5-c548df046104",
        "colab": {
          "base_uri": "https://localhost:8080/",
          "height": 34
        }
      },
      "cell_type": "code",
      "source": [
        "end = time. time()\n",
        "print(end - start)\n",
        "\n"
      ],
      "execution_count": 0,
      "outputs": [
        {
          "output_type": "stream",
          "text": [
            "198.56065487861633\n"
          ],
          "name": "stdout"
        }
      ]
    },
    {
      "metadata": {
        "id": "DvBKIuoRZCb9",
        "colab_type": "code",
        "outputId": "bc48a33b-75a0-47cd-c075-c8e057e0e3f1",
        "colab": {
          "base_uri": "https://localhost:8080/",
          "height": 50
        }
      },
      "cell_type": "code",
      "source": [
        "model.evaluate(test_images, test_labels)\n",
        "\n"
      ],
      "execution_count": 0,
      "outputs": [
        {
          "output_type": "stream",
          "text": [
            "10000/10000 [==============================] - 2s 164us/sample - loss: 0.3282 - acc: 0.8888\n"
          ],
          "name": "stdout"
        },
        {
          "output_type": "execute_result",
          "data": {
            "text/plain": [
              "[0.32821866466999056, 0.8888]"
            ]
          },
          "metadata": {
            "tags": []
          },
          "execution_count": 36
        }
      ]
    }
  ]
}